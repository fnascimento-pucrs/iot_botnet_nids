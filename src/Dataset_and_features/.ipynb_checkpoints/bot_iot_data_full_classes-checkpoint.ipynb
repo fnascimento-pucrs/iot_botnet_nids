{
 "cells": [
  {
   "cell_type": "markdown",
   "metadata": {
    "colab_type": "text",
    "id": "OE7e2muYl48J"
   },
   "source": [
    "# Loading all parts of Dataset"
   ]
  },
  {
   "cell_type": "code",
   "execution_count": 1,
   "metadata": {
    "colab": {},
    "colab_type": "code",
    "id": "B-I4d1HQGcv7"
   },
   "outputs": [],
   "source": [
    "# data analysis packages\n",
    "import pandas as pd\n",
    "import numpy as np"
   ]
  },
  {
   "cell_type": "code",
   "execution_count": 2,
   "metadata": {
    "colab": {
     "base_uri": "https://localhost:8080/",
     "height": 34
    },
    "colab_type": "code",
    "id": "V25HiJFtGkZ5",
    "outputId": "1cfcbe8b-b1af-44a2-c6ee-3e73634e55df"
   },
   "outputs": [
    {
     "ename": "ModuleNotFoundError",
     "evalue": "No module named 'google.colab'",
     "output_type": "error",
     "traceback": [
      "\u001b[0;31m---------------------------------------------------------------------------\u001b[0m",
      "\u001b[0;31mModuleNotFoundError\u001b[0m                       Traceback (most recent call last)",
      "\u001b[0;32m/var/folders/8c/svn5w7qj2jbfvwksq848ythc0000gn/T/ipykernel_8919/3123035279.py\u001b[0m in \u001b[0;36m<module>\u001b[0;34m\u001b[0m\n\u001b[0;32m----> 1\u001b[0;31m \u001b[0;32mfrom\u001b[0m \u001b[0mgoogle\u001b[0m\u001b[0;34m.\u001b[0m\u001b[0mcolab\u001b[0m \u001b[0;32mimport\u001b[0m \u001b[0mdrive\u001b[0m\u001b[0;34m\u001b[0m\u001b[0;34m\u001b[0m\u001b[0m\n\u001b[0m\u001b[1;32m      2\u001b[0m \u001b[0mdrive\u001b[0m\u001b[0;34m.\u001b[0m\u001b[0mmount\u001b[0m\u001b[0;34m(\u001b[0m\u001b[0;34m'/content/drive/'\u001b[0m\u001b[0;34m)\u001b[0m\u001b[0;34m\u001b[0m\u001b[0;34m\u001b[0m\u001b[0m\n\u001b[1;32m      3\u001b[0m \u001b[0;34m\u001b[0m\u001b[0m\n\u001b[1;32m      4\u001b[0m \u001b[0;32mimport\u001b[0m \u001b[0mos\u001b[0m\u001b[0;34m\u001b[0m\u001b[0;34m\u001b[0m\u001b[0m\n\u001b[1;32m      5\u001b[0m \u001b[0mos\u001b[0m\u001b[0;34m.\u001b[0m\u001b[0mchdir\u001b[0m\u001b[0;34m(\u001b[0m\u001b[0;34m\"/content/drive/My Drive/Colab Notebooks/unsw_2018_IoT_botnet_all_feat\"\u001b[0m\u001b[0;34m)\u001b[0m \u001b[0;31m#/EdgeML/tf/sampled_dataset - Colab Notebooks/unsw_2018_IoT_botnet_all_feat\u001b[0m\u001b[0;34m\u001b[0m\u001b[0;34m\u001b[0m\u001b[0m\n",
      "\u001b[0;31mModuleNotFoundError\u001b[0m: No module named 'google.colab'"
     ]
    }
   ],
   "source": [
    "from google.colab import drive\n",
    "drive.mount('/content/drive/')\n",
    "\n",
    "import os\n",
    "os.chdir(\"/content/drive/My Drive/Colab Notebooks/unsw_2018_IoT_botnet_all_feat\") #/EdgeML/tf/sampled_dataset - Colab Notebooks/unsw_2018_IoT_botnet_all_feat"
   ]
  },
  {
   "cell_type": "code",
   "execution_count": 0,
   "metadata": {
    "colab": {
     "base_uri": "https://localhost:8080/",
     "height": 69
    },
    "colab_type": "code",
    "id": "5puqX_vgGzAX",
    "outputId": "2de7f32e-d9b2-442b-efdc-85c3fa203dcb"
   },
   "outputs": [
    {
     "name": "stderr",
     "output_type": "stream",
     "text": [
      "/usr/local/lib/python3.6/dist-packages/IPython/core/interactiveshell.py:2718: DtypeWarning: Columns (7,9) have mixed types. Specify dtype option on import or set low_memory=False.\n",
      "  interactivity=interactivity, compiler=compiler, result=result)\n"
     ]
    },
    {
     "data": {
      "text/plain": [
       "(1000000, 46)"
      ]
     },
     "execution_count": 3,
     "metadata": {
      "tags": []
     },
     "output_type": "execute_result"
    }
   ],
   "source": [
    "full_path1 = './UNSW_2018_IoT_Botnet_Full5pc_1.csv'\n",
    "\n",
    "full_df1 = pd.read_csv(full_path1)\n",
    "full_df1.shape"
   ]
  },
  {
   "cell_type": "code",
   "execution_count": 0,
   "metadata": {
    "colab": {
     "base_uri": "https://localhost:8080/",
     "height": 69
    },
    "colab_type": "code",
    "id": "fQMaWABVG0fy",
    "outputId": "73416efd-8dd5-4404-f138-fd46c1ed5b59"
   },
   "outputs": [
    {
     "name": "stderr",
     "output_type": "stream",
     "text": [
      "/usr/local/lib/python3.6/dist-packages/IPython/core/interactiveshell.py:2718: DtypeWarning: Columns (7,9) have mixed types. Specify dtype option on import or set low_memory=False.\n",
      "  interactivity=interactivity, compiler=compiler, result=result)\n"
     ]
    },
    {
     "data": {
      "text/plain": [
       "(1000000, 46)"
      ]
     },
     "execution_count": 4,
     "metadata": {
      "tags": []
     },
     "output_type": "execute_result"
    }
   ],
   "source": [
    "full_path2 = './UNSW_2018_IoT_Botnet_Full5pc_2.csv'\n",
    "\n",
    "full_df2 = pd.read_csv(full_path2)\n",
    "full_df2.shape"
   ]
  },
  {
   "cell_type": "code",
   "execution_count": 0,
   "metadata": {
    "colab": {
     "base_uri": "https://localhost:8080/",
     "height": 69
    },
    "colab_type": "code",
    "id": "e02TL_2PG1FA",
    "outputId": "b12020de-5724-42c2-dba7-877c0d1b1b93"
   },
   "outputs": [
    {
     "name": "stderr",
     "output_type": "stream",
     "text": [
      "/usr/local/lib/python3.6/dist-packages/IPython/core/interactiveshell.py:2718: DtypeWarning: Columns (7,9) have mixed types. Specify dtype option on import or set low_memory=False.\n",
      "  interactivity=interactivity, compiler=compiler, result=result)\n"
     ]
    },
    {
     "data": {
      "text/plain": [
       "(1000000, 46)"
      ]
     },
     "execution_count": 5,
     "metadata": {
      "tags": []
     },
     "output_type": "execute_result"
    }
   ],
   "source": [
    "full_path3 = './UNSW_2018_IoT_Botnet_Full5pc_3.csv'\n",
    "\n",
    "full_df3 = pd.read_csv(full_path3)\n",
    "full_df3.shape"
   ]
  },
  {
   "cell_type": "code",
   "execution_count": 0,
   "metadata": {
    "colab": {
     "base_uri": "https://localhost:8080/",
     "height": 69
    },
    "colab_type": "code",
    "id": "YosAtzCiG2uD",
    "outputId": "1bad15f1-db73-4bc9-bd10-a64190ddc00e"
   },
   "outputs": [
    {
     "name": "stderr",
     "output_type": "stream",
     "text": [
      "/usr/local/lib/python3.6/dist-packages/IPython/core/interactiveshell.py:2718: DtypeWarning: Columns (7,9) have mixed types. Specify dtype option on import or set low_memory=False.\n",
      "  interactivity=interactivity, compiler=compiler, result=result)\n"
     ]
    },
    {
     "data": {
      "text/plain": [
       "(668522, 46)"
      ]
     },
     "execution_count": 6,
     "metadata": {
      "tags": []
     },
     "output_type": "execute_result"
    }
   ],
   "source": [
    "full_path4 = './UNSW_2018_IoT_Botnet_Full5pc_4.csv'\n",
    "\n",
    "full_df4 = pd.read_csv(full_path4)\n",
    "full_df4.shape"
   ]
  },
  {
   "cell_type": "code",
   "execution_count": 0,
   "metadata": {
    "colab": {},
    "colab_type": "code",
    "id": "eHAELWUoG5C0"
   },
   "outputs": [],
   "source": [
    "#concatinating all datasets into one large one\n",
    "frames = [full_df1, full_df2, full_df3, full_df4]\n",
    "combined_df = pd.concat(frames)\n",
    "\n",
    "#sampling now done in next notebook\n",
    "#combined_df = combined_df.sample(frac =.50)"
   ]
  },
  {
   "cell_type": "markdown",
   "metadata": {
    "colab_type": "text",
    "id": "8oDs-byXljbS"
   },
   "source": [
    "# Adding all 11 Classes as Label\n"
   ]
  },
  {
   "cell_type": "code",
   "execution_count": 0,
   "metadata": {
    "colab": {
     "base_uri": "https://localhost:8080/",
     "height": 34
    },
    "colab_type": "code",
    "id": "BSY57lHtG7pb",
    "outputId": "a5198ed7-0922-499c-8df3-0ed0bd5f412a"
   },
   "outputs": [
    {
     "data": {
      "text/plain": [
       "array(['DoS', 'DDoS', 'Normal', 'Reconnaissance', 'Theft'], dtype=object)"
      ]
     },
     "execution_count": 8,
     "metadata": {
      "tags": []
     },
     "output_type": "execute_result"
    }
   ],
   "source": [
    "combined_df['category'].unique()"
   ]
  },
  {
   "cell_type": "code",
   "execution_count": 0,
   "metadata": {
    "colab": {
     "base_uri": "https://localhost:8080/",
     "height": 52
    },
    "colab_type": "code",
    "id": "DcMEhMSLHyWI",
    "outputId": "d9914f3b-707f-47cb-8cd0-debc2599f540"
   },
   "outputs": [
    {
     "data": {
      "text/plain": [
       "array(['HTTP', 'TCP', 'UDP', 'Normal', 'OS_Fingerprint', 'Service_Scan',\n",
       "       'Data_Exfiltration', 'Keylogging'], dtype=object)"
      ]
     },
     "execution_count": 9,
     "metadata": {
      "tags": []
     },
     "output_type": "execute_result"
    }
   ],
   "source": [
    "combined_df['subcategory'].unique()"
   ]
  },
  {
   "cell_type": "code",
   "execution_count": 0,
   "metadata": {
    "colab": {
     "base_uri": "https://localhost:8080/",
     "height": 121
    },
    "colab_type": "code",
    "id": "vxbCwsPQH6Bp",
    "outputId": "9bd5eeb6-c242-427f-a559-901111797e24"
   },
   "outputs": [
    {
     "name": "stderr",
     "output_type": "stream",
     "text": [
      "/usr/local/lib/python3.6/dist-packages/ipykernel_launcher.py:5: SettingWithCopyWarning: \n",
      "A value is trying to be set on a copy of a slice from a DataFrame.\n",
      "Try using .loc[row_indexer,col_indexer] = value instead\n",
      "\n",
      "See the caveats in the documentation: http://pandas.pydata.org/pandas-docs/stable/indexing.html#indexing-view-versus-copy\n",
      "  \"\"\"\n"
     ]
    }
   ],
   "source": [
    "rec = combined_df[combined_df['category'] == 'Reconnaissance']\n",
    "\n",
    "rec_ss_df = rec[rec['subcategory'] == 'Service_Scan']\n",
    "\n",
    "rec_ss_df['subcategory_number'] = 1"
   ]
  },
  {
   "cell_type": "code",
   "execution_count": 0,
   "metadata": {
    "colab": {
     "base_uri": "https://localhost:8080/",
     "height": 121
    },
    "colab_type": "code",
    "id": "AWJxRFzOH8CX",
    "outputId": "b6bb2f61-801d-403c-feb8-f4aa2e35bac4"
   },
   "outputs": [
    {
     "name": "stderr",
     "output_type": "stream",
     "text": [
      "/usr/local/lib/python3.6/dist-packages/ipykernel_launcher.py:3: SettingWithCopyWarning: \n",
      "A value is trying to be set on a copy of a slice from a DataFrame.\n",
      "Try using .loc[row_indexer,col_indexer] = value instead\n",
      "\n",
      "See the caveats in the documentation: http://pandas.pydata.org/pandas-docs/stable/indexing.html#indexing-view-versus-copy\n",
      "  This is separate from the ipykernel package so we can avoid doing imports until\n"
     ]
    }
   ],
   "source": [
    "rec_osf_df = rec[rec['subcategory'] == 'OS_Fingerprint']\n",
    "\n",
    "rec_osf_df['subcategory_number'] = 2"
   ]
  },
  {
   "cell_type": "code",
   "execution_count": 0,
   "metadata": {
    "colab": {
     "base_uri": "https://localhost:8080/",
     "height": 121
    },
    "colab_type": "code",
    "id": "SAbWp5t3ItQt",
    "outputId": "5207ce82-1fa6-41ac-a764-592c8db595e6"
   },
   "outputs": [
    {
     "name": "stderr",
     "output_type": "stream",
     "text": [
      "/usr/local/lib/python3.6/dist-packages/ipykernel_launcher.py:5: SettingWithCopyWarning: \n",
      "A value is trying to be set on a copy of a slice from a DataFrame.\n",
      "Try using .loc[row_indexer,col_indexer] = value instead\n",
      "\n",
      "See the caveats in the documentation: http://pandas.pydata.org/pandas-docs/stable/indexing.html#indexing-view-versus-copy\n",
      "  \"\"\"\n"
     ]
    }
   ],
   "source": [
    "ddos = combined_df[combined_df['category'] == 'DDoS']\n",
    "\n",
    "ddos_tcp_df = ddos[ddos['subcategory'] == 'TCP']\n",
    "\n",
    "ddos_tcp_df['subcategory_number'] = 3"
   ]
  },
  {
   "cell_type": "code",
   "execution_count": 0,
   "metadata": {
    "colab": {
     "base_uri": "https://localhost:8080/",
     "height": 121
    },
    "colab_type": "code",
    "id": "RfmmtvXPIvfN",
    "outputId": "42ccc383-1854-4aac-84fc-3f3466b2eef2"
   },
   "outputs": [
    {
     "name": "stderr",
     "output_type": "stream",
     "text": [
      "/usr/local/lib/python3.6/dist-packages/ipykernel_launcher.py:3: SettingWithCopyWarning: \n",
      "A value is trying to be set on a copy of a slice from a DataFrame.\n",
      "Try using .loc[row_indexer,col_indexer] = value instead\n",
      "\n",
      "See the caveats in the documentation: http://pandas.pydata.org/pandas-docs/stable/indexing.html#indexing-view-versus-copy\n",
      "  This is separate from the ipykernel package so we can avoid doing imports until\n"
     ]
    }
   ],
   "source": [
    "ddos_udp_df = ddos[ddos['subcategory'] == 'UDP']\n",
    "\n",
    "ddos_udp_df['subcategory_number'] = 4"
   ]
  },
  {
   "cell_type": "code",
   "execution_count": 0,
   "metadata": {
    "colab": {
     "base_uri": "https://localhost:8080/",
     "height": 121
    },
    "colab_type": "code",
    "id": "4M1vc9-6I3fv",
    "outputId": "0ac0598d-92e8-4cb0-9c1e-0adfbf8636f7"
   },
   "outputs": [
    {
     "name": "stderr",
     "output_type": "stream",
     "text": [
      "/usr/local/lib/python3.6/dist-packages/ipykernel_launcher.py:3: SettingWithCopyWarning: \n",
      "A value is trying to be set on a copy of a slice from a DataFrame.\n",
      "Try using .loc[row_indexer,col_indexer] = value instead\n",
      "\n",
      "See the caveats in the documentation: http://pandas.pydata.org/pandas-docs/stable/indexing.html#indexing-view-versus-copy\n",
      "  This is separate from the ipykernel package so we can avoid doing imports until\n"
     ]
    }
   ],
   "source": [
    "ddos_http_df = ddos[ddos['subcategory'] == 'HTTP']\n",
    "\n",
    "ddos_http_df['subcategory_number'] = 5"
   ]
  },
  {
   "cell_type": "code",
   "execution_count": 0,
   "metadata": {
    "colab": {
     "base_uri": "https://localhost:8080/",
     "height": 121
    },
    "colab_type": "code",
    "id": "JHCz_q4kI4Ln",
    "outputId": "34492749-3b81-48ff-980d-e75f202396fb"
   },
   "outputs": [
    {
     "name": "stderr",
     "output_type": "stream",
     "text": [
      "/usr/local/lib/python3.6/dist-packages/ipykernel_launcher.py:5: SettingWithCopyWarning: \n",
      "A value is trying to be set on a copy of a slice from a DataFrame.\n",
      "Try using .loc[row_indexer,col_indexer] = value instead\n",
      "\n",
      "See the caveats in the documentation: http://pandas.pydata.org/pandas-docs/stable/indexing.html#indexing-view-versus-copy\n",
      "  \"\"\"\n"
     ]
    }
   ],
   "source": [
    "dos = combined_df[combined_df['category'] == 'DoS']\n",
    "\n",
    "dos_tcp_df = dos[dos['subcategory'] == 'TCP']\n",
    "\n",
    "dos_tcp_df['subcategory_number'] = 6\n"
   ]
  },
  {
   "cell_type": "code",
   "execution_count": 0,
   "metadata": {
    "colab": {
     "base_uri": "https://localhost:8080/",
     "height": 121
    },
    "colab_type": "code",
    "id": "c2ExRyJfI9WP",
    "outputId": "e489ef4f-0b89-4f21-bc3f-6e3e44570d63"
   },
   "outputs": [
    {
     "name": "stderr",
     "output_type": "stream",
     "text": [
      "/usr/local/lib/python3.6/dist-packages/ipykernel_launcher.py:3: SettingWithCopyWarning: \n",
      "A value is trying to be set on a copy of a slice from a DataFrame.\n",
      "Try using .loc[row_indexer,col_indexer] = value instead\n",
      "\n",
      "See the caveats in the documentation: http://pandas.pydata.org/pandas-docs/stable/indexing.html#indexing-view-versus-copy\n",
      "  This is separate from the ipykernel package so we can avoid doing imports until\n"
     ]
    }
   ],
   "source": [
    "dos_udp_df = dos[dos['subcategory'] == 'UDP']\n",
    "\n",
    "dos_udp_df['subcategory_number'] = 7"
   ]
  },
  {
   "cell_type": "code",
   "execution_count": 0,
   "metadata": {
    "colab": {
     "base_uri": "https://localhost:8080/",
     "height": 121
    },
    "colab_type": "code",
    "id": "UxLcqKd9I_En",
    "outputId": "24514767-452d-4b96-95c4-73fae6b2ed21"
   },
   "outputs": [
    {
     "name": "stderr",
     "output_type": "stream",
     "text": [
      "/usr/local/lib/python3.6/dist-packages/ipykernel_launcher.py:3: SettingWithCopyWarning: \n",
      "A value is trying to be set on a copy of a slice from a DataFrame.\n",
      "Try using .loc[row_indexer,col_indexer] = value instead\n",
      "\n",
      "See the caveats in the documentation: http://pandas.pydata.org/pandas-docs/stable/indexing.html#indexing-view-versus-copy\n",
      "  This is separate from the ipykernel package so we can avoid doing imports until\n"
     ]
    }
   ],
   "source": [
    "dos_http_df = dos[dos['subcategory'] == 'HTTP']\n",
    "\n",
    "dos_http_df['subcategory_number'] = 8"
   ]
  },
  {
   "cell_type": "code",
   "execution_count": 0,
   "metadata": {
    "colab": {
     "base_uri": "https://localhost:8080/",
     "height": 121
    },
    "colab_type": "code",
    "id": "JXbjsf6YJA8N",
    "outputId": "132519be-0f72-4005-c842-7627f381dfcd"
   },
   "outputs": [
    {
     "name": "stderr",
     "output_type": "stream",
     "text": [
      "/usr/local/lib/python3.6/dist-packages/ipykernel_launcher.py:2: SettingWithCopyWarning: \n",
      "A value is trying to be set on a copy of a slice from a DataFrame.\n",
      "Try using .loc[row_indexer,col_indexer] = value instead\n",
      "\n",
      "See the caveats in the documentation: http://pandas.pydata.org/pandas-docs/stable/indexing.html#indexing-view-versus-copy\n",
      "  \n"
     ]
    }
   ],
   "source": [
    "norm = combined_df[combined_df['subcategory'] == 'Normal']\n",
    "norm['subcategory_number'] = 9"
   ]
  },
  {
   "cell_type": "code",
   "execution_count": 0,
   "metadata": {
    "colab": {
     "base_uri": "https://localhost:8080/",
     "height": 121
    },
    "colab_type": "code",
    "id": "PfsMiRfWJDcQ",
    "outputId": "fa0a5927-216f-4760-e06c-110059eff5cb"
   },
   "outputs": [
    {
     "name": "stderr",
     "output_type": "stream",
     "text": [
      "/usr/local/lib/python3.6/dist-packages/ipykernel_launcher.py:5: SettingWithCopyWarning: \n",
      "A value is trying to be set on a copy of a slice from a DataFrame.\n",
      "Try using .loc[row_indexer,col_indexer] = value instead\n",
      "\n",
      "See the caveats in the documentation: http://pandas.pydata.org/pandas-docs/stable/indexing.html#indexing-view-versus-copy\n",
      "  \"\"\"\n"
     ]
    }
   ],
   "source": [
    "theft = combined_df[combined_df['category'] == 'Theft']\n",
    "\n",
    "theft_key_df = theft[theft['subcategory'] == 'Keylogging']\n",
    "\n",
    "theft_key_df['subcategory_number'] = 10"
   ]
  },
  {
   "cell_type": "code",
   "execution_count": 0,
   "metadata": {
    "colab": {
     "base_uri": "https://localhost:8080/",
     "height": 121
    },
    "colab_type": "code",
    "id": "4o4kE7ajJGh3",
    "outputId": "0ed70af8-4147-4370-cddd-0d1c1d0e2e68"
   },
   "outputs": [
    {
     "name": "stderr",
     "output_type": "stream",
     "text": [
      "/usr/local/lib/python3.6/dist-packages/ipykernel_launcher.py:3: SettingWithCopyWarning: \n",
      "A value is trying to be set on a copy of a slice from a DataFrame.\n",
      "Try using .loc[row_indexer,col_indexer] = value instead\n",
      "\n",
      "See the caveats in the documentation: http://pandas.pydata.org/pandas-docs/stable/indexing.html#indexing-view-versus-copy\n",
      "  This is separate from the ipykernel package so we can avoid doing imports until\n"
     ]
    }
   ],
   "source": [
    "theft_de_df = theft[theft['subcategory'] == 'Data_Exfiltration']\n",
    "\n",
    "theft_de_df['subcategory_number'] = 11"
   ]
  },
  {
   "cell_type": "code",
   "execution_count": 0,
   "metadata": {
    "colab": {},
    "colab_type": "code",
    "id": "GARfHHpWJIrh"
   },
   "outputs": [],
   "source": [
    "frames3 = [rec_ss_df, rec_osf_df, ddos_tcp_df, ddos_udp_df, ddos_http_df, dos_tcp_df, dos_udp_df, dos_http_df, norm, theft_key_df, theft_de_df]\n",
    "real_df = pd.concat(frames3)"
   ]
  },
  {
   "cell_type": "code",
   "execution_count": 0,
   "metadata": {
    "colab": {
     "base_uri": "https://localhost:8080/",
     "height": 226
    },
    "colab_type": "code",
    "id": "FMexGdysHhMX",
    "outputId": "fea18660-d7ab-4f47-9099-16f77ce8f020"
   },
   "outputs": [
    {
     "data": {
      "text/html": [
       "<div>\n",
       "<style scoped>\n",
       "    .dataframe tbody tr th:only-of-type {\n",
       "        vertical-align: middle;\n",
       "    }\n",
       "\n",
       "    .dataframe tbody tr th {\n",
       "        vertical-align: top;\n",
       "    }\n",
       "\n",
       "    .dataframe thead th {\n",
       "        text-align: right;\n",
       "    }\n",
       "</style>\n",
       "<table border=\"1\" class=\"dataframe\">\n",
       "  <thead>\n",
       "    <tr style=\"text-align: right;\">\n",
       "      <th></th>\n",
       "      <th>pkSeqID</th>\n",
       "      <th>stime</th>\n",
       "      <th>flgs</th>\n",
       "      <th>flgs_number</th>\n",
       "      <th>proto</th>\n",
       "      <th>proto_number</th>\n",
       "      <th>saddr</th>\n",
       "      <th>sport</th>\n",
       "      <th>daddr</th>\n",
       "      <th>dport</th>\n",
       "      <th>pkts</th>\n",
       "      <th>bytes</th>\n",
       "      <th>state</th>\n",
       "      <th>state_number</th>\n",
       "      <th>ltime</th>\n",
       "      <th>seq</th>\n",
       "      <th>dur</th>\n",
       "      <th>mean</th>\n",
       "      <th>stddev</th>\n",
       "      <th>sum</th>\n",
       "      <th>min</th>\n",
       "      <th>max</th>\n",
       "      <th>spkts</th>\n",
       "      <th>dpkts</th>\n",
       "      <th>sbytes</th>\n",
       "      <th>dbytes</th>\n",
       "      <th>rate</th>\n",
       "      <th>srate</th>\n",
       "      <th>drate</th>\n",
       "      <th>TnBPSrcIP</th>\n",
       "      <th>TnBPDstIP</th>\n",
       "      <th>TnP_PSrcIP</th>\n",
       "      <th>TnP_PDstIP</th>\n",
       "      <th>TnP_PerProto</th>\n",
       "      <th>TnP_Per_Dport</th>\n",
       "      <th>AR_P_Proto_P_SrcIP</th>\n",
       "      <th>AR_P_Proto_P_DstIP</th>\n",
       "      <th>N_IN_Conn_P_DstIP</th>\n",
       "      <th>N_IN_Conn_P_SrcIP</th>\n",
       "      <th>AR_P_Proto_P_Sport</th>\n",
       "      <th>AR_P_Proto_P_Dport</th>\n",
       "      <th>Pkts_P_State_P_Protocol_P_DestIP</th>\n",
       "      <th>Pkts_P_State_P_Protocol_P_SrcIP</th>\n",
       "      <th>attack</th>\n",
       "      <th>category</th>\n",
       "      <th>subcategory</th>\n",
       "      <th>subcategory_number</th>\n",
       "    </tr>\n",
       "  </thead>\n",
       "  <tbody>\n",
       "    <tr>\n",
       "      <th>595275</th>\n",
       "      <td>3595276</td>\n",
       "      <td>1.526344e+09</td>\n",
       "      <td>e</td>\n",
       "      <td>1</td>\n",
       "      <td>tcp</td>\n",
       "      <td>1</td>\n",
       "      <td>192.168.100.150</td>\n",
       "      <td>36663</td>\n",
       "      <td>192.168.100.3</td>\n",
       "      <td>8080</td>\n",
       "      <td>2</td>\n",
       "      <td>120</td>\n",
       "      <td>RST</td>\n",
       "      <td>1</td>\n",
       "      <td>1.526344e+09</td>\n",
       "      <td>108</td>\n",
       "      <td>0.000108</td>\n",
       "      <td>0.000108</td>\n",
       "      <td>0.0</td>\n",
       "      <td>0.000108</td>\n",
       "      <td>0.000108</td>\n",
       "      <td>0.000108</td>\n",
       "      <td>1</td>\n",
       "      <td>1</td>\n",
       "      <td>60</td>\n",
       "      <td>60</td>\n",
       "      <td>9259.258789</td>\n",
       "      <td>0.00000</td>\n",
       "      <td>0.0</td>\n",
       "      <td>12660</td>\n",
       "      <td>12660</td>\n",
       "      <td>211</td>\n",
       "      <td>211</td>\n",
       "      <td>211</td>\n",
       "      <td>2</td>\n",
       "      <td>27009.7</td>\n",
       "      <td>27009.7</td>\n",
       "      <td>100</td>\n",
       "      <td>100</td>\n",
       "      <td>22099.4</td>\n",
       "      <td>18518.5</td>\n",
       "      <td>211</td>\n",
       "      <td>211</td>\n",
       "      <td>1</td>\n",
       "      <td>Reconnaissance</td>\n",
       "      <td>Service_Scan</td>\n",
       "      <td>1</td>\n",
       "    </tr>\n",
       "    <tr>\n",
       "      <th>595276</th>\n",
       "      <td>3595277</td>\n",
       "      <td>1.526344e+09</td>\n",
       "      <td>e</td>\n",
       "      <td>1</td>\n",
       "      <td>tcp</td>\n",
       "      <td>1</td>\n",
       "      <td>192.168.100.150</td>\n",
       "      <td>36663</td>\n",
       "      <td>192.168.100.3</td>\n",
       "      <td>554</td>\n",
       "      <td>2</td>\n",
       "      <td>120</td>\n",
       "      <td>RST</td>\n",
       "      <td>1</td>\n",
       "      <td>1.526344e+09</td>\n",
       "      <td>109</td>\n",
       "      <td>0.000107</td>\n",
       "      <td>0.000107</td>\n",
       "      <td>0.0</td>\n",
       "      <td>0.000107</td>\n",
       "      <td>0.000107</td>\n",
       "      <td>0.000107</td>\n",
       "      <td>1</td>\n",
       "      <td>1</td>\n",
       "      <td>60</td>\n",
       "      <td>60</td>\n",
       "      <td>9345.793945</td>\n",
       "      <td>0.00000</td>\n",
       "      <td>0.0</td>\n",
       "      <td>12660</td>\n",
       "      <td>12660</td>\n",
       "      <td>211</td>\n",
       "      <td>211</td>\n",
       "      <td>211</td>\n",
       "      <td>2</td>\n",
       "      <td>27009.7</td>\n",
       "      <td>27009.7</td>\n",
       "      <td>100</td>\n",
       "      <td>100</td>\n",
       "      <td>22099.4</td>\n",
       "      <td>18691.6</td>\n",
       "      <td>211</td>\n",
       "      <td>211</td>\n",
       "      <td>1</td>\n",
       "      <td>Reconnaissance</td>\n",
       "      <td>Service_Scan</td>\n",
       "      <td>1</td>\n",
       "    </tr>\n",
       "    <tr>\n",
       "      <th>595277</th>\n",
       "      <td>3595278</td>\n",
       "      <td>1.526344e+09</td>\n",
       "      <td>e</td>\n",
       "      <td>1</td>\n",
       "      <td>tcp</td>\n",
       "      <td>1</td>\n",
       "      <td>192.168.100.150</td>\n",
       "      <td>36663</td>\n",
       "      <td>192.168.100.3</td>\n",
       "      <td>80</td>\n",
       "      <td>3</td>\n",
       "      <td>180</td>\n",
       "      <td>RST</td>\n",
       "      <td>1</td>\n",
       "      <td>1.526344e+09</td>\n",
       "      <td>110</td>\n",
       "      <td>0.000220</td>\n",
       "      <td>0.000220</td>\n",
       "      <td>0.0</td>\n",
       "      <td>0.000220</td>\n",
       "      <td>0.000220</td>\n",
       "      <td>0.000220</td>\n",
       "      <td>2</td>\n",
       "      <td>1</td>\n",
       "      <td>120</td>\n",
       "      <td>60</td>\n",
       "      <td>9090.909180</td>\n",
       "      <td>4545.45459</td>\n",
       "      <td>0.0</td>\n",
       "      <td>12660</td>\n",
       "      <td>12660</td>\n",
       "      <td>211</td>\n",
       "      <td>211</td>\n",
       "      <td>211</td>\n",
       "      <td>3</td>\n",
       "      <td>27009.7</td>\n",
       "      <td>27009.7</td>\n",
       "      <td>100</td>\n",
       "      <td>100</td>\n",
       "      <td>22099.4</td>\n",
       "      <td>13636.4</td>\n",
       "      <td>211</td>\n",
       "      <td>211</td>\n",
       "      <td>1</td>\n",
       "      <td>Reconnaissance</td>\n",
       "      <td>Service_Scan</td>\n",
       "      <td>1</td>\n",
       "    </tr>\n",
       "    <tr>\n",
       "      <th>595278</th>\n",
       "      <td>3595279</td>\n",
       "      <td>1.526344e+09</td>\n",
       "      <td>e</td>\n",
       "      <td>1</td>\n",
       "      <td>tcp</td>\n",
       "      <td>1</td>\n",
       "      <td>192.168.100.150</td>\n",
       "      <td>36663</td>\n",
       "      <td>192.168.100.3</td>\n",
       "      <td>443</td>\n",
       "      <td>2</td>\n",
       "      <td>120</td>\n",
       "      <td>RST</td>\n",
       "      <td>1</td>\n",
       "      <td>1.526344e+09</td>\n",
       "      <td>111</td>\n",
       "      <td>0.000131</td>\n",
       "      <td>0.000131</td>\n",
       "      <td>0.0</td>\n",
       "      <td>0.000131</td>\n",
       "      <td>0.000131</td>\n",
       "      <td>0.000131</td>\n",
       "      <td>1</td>\n",
       "      <td>1</td>\n",
       "      <td>60</td>\n",
       "      <td>60</td>\n",
       "      <td>7633.588379</td>\n",
       "      <td>0.00000</td>\n",
       "      <td>0.0</td>\n",
       "      <td>12660</td>\n",
       "      <td>12660</td>\n",
       "      <td>211</td>\n",
       "      <td>211</td>\n",
       "      <td>211</td>\n",
       "      <td>2</td>\n",
       "      <td>27009.7</td>\n",
       "      <td>27009.7</td>\n",
       "      <td>100</td>\n",
       "      <td>100</td>\n",
       "      <td>22099.4</td>\n",
       "      <td>15267.2</td>\n",
       "      <td>211</td>\n",
       "      <td>211</td>\n",
       "      <td>1</td>\n",
       "      <td>Reconnaissance</td>\n",
       "      <td>Service_Scan</td>\n",
       "      <td>1</td>\n",
       "    </tr>\n",
       "    <tr>\n",
       "      <th>595279</th>\n",
       "      <td>3595280</td>\n",
       "      <td>1.526344e+09</td>\n",
       "      <td>e</td>\n",
       "      <td>1</td>\n",
       "      <td>tcp</td>\n",
       "      <td>1</td>\n",
       "      <td>192.168.100.150</td>\n",
       "      <td>36663</td>\n",
       "      <td>192.168.100.3</td>\n",
       "      <td>111</td>\n",
       "      <td>2</td>\n",
       "      <td>120</td>\n",
       "      <td>RST</td>\n",
       "      <td>1</td>\n",
       "      <td>1.526344e+09</td>\n",
       "      <td>112</td>\n",
       "      <td>0.000130</td>\n",
       "      <td>0.000130</td>\n",
       "      <td>0.0</td>\n",
       "      <td>0.000130</td>\n",
       "      <td>0.000130</td>\n",
       "      <td>0.000130</td>\n",
       "      <td>1</td>\n",
       "      <td>1</td>\n",
       "      <td>60</td>\n",
       "      <td>60</td>\n",
       "      <td>7692.307617</td>\n",
       "      <td>0.00000</td>\n",
       "      <td>0.0</td>\n",
       "      <td>12660</td>\n",
       "      <td>12660</td>\n",
       "      <td>211</td>\n",
       "      <td>211</td>\n",
       "      <td>211</td>\n",
       "      <td>2</td>\n",
       "      <td>27009.7</td>\n",
       "      <td>27009.7</td>\n",
       "      <td>100</td>\n",
       "      <td>100</td>\n",
       "      <td>22099.4</td>\n",
       "      <td>15384.6</td>\n",
       "      <td>211</td>\n",
       "      <td>211</td>\n",
       "      <td>1</td>\n",
       "      <td>Reconnaissance</td>\n",
       "      <td>Service_Scan</td>\n",
       "      <td>1</td>\n",
       "    </tr>\n",
       "  </tbody>\n",
       "</table>\n",
       "</div>"
      ],
      "text/plain": [
       "        pkSeqID         stime  ...   subcategory  subcategory_number\n",
       "595275  3595276  1.526344e+09  ...  Service_Scan                   1\n",
       "595276  3595277  1.526344e+09  ...  Service_Scan                   1\n",
       "595277  3595278  1.526344e+09  ...  Service_Scan                   1\n",
       "595278  3595279  1.526344e+09  ...  Service_Scan                   1\n",
       "595279  3595280  1.526344e+09  ...  Service_Scan                   1\n",
       "\n",
       "[5 rows x 47 columns]"
      ]
     },
     "execution_count": 22,
     "metadata": {
      "tags": []
     },
     "output_type": "execute_result"
    }
   ],
   "source": [
    "real_df.head()"
   ]
  },
  {
   "cell_type": "markdown",
   "metadata": {
    "colab_type": "text",
    "id": "LguLZIOAmMA3"
   },
   "source": [
    "# Exporting Full Dataset to Drive"
   ]
  },
  {
   "cell_type": "code",
   "execution_count": 0,
   "metadata": {
    "colab": {},
    "colab_type": "code",
    "id": "YIPChD436Fg0"
   },
   "outputs": [],
   "source": [
    "real_df.to_csv('botiot_12c_100.csv')"
   ]
  }
 ],
 "metadata": {
  "colab": {
   "name": "bot_iot_data_full_classes.ipynb",
   "provenance": [],
   "version": "0.3.2"
  },
  "kernelspec": {
   "display_name": "Python 3 (ipykernel)",
   "language": "python",
   "name": "python3"
  },
  "language_info": {
   "codemirror_mode": {
    "name": "ipython",
    "version": 3
   },
   "file_extension": ".py",
   "mimetype": "text/x-python",
   "name": "python",
   "nbconvert_exporter": "python",
   "pygments_lexer": "ipython3",
   "version": "3.8.12"
  }
 },
 "nbformat": 4,
 "nbformat_minor": 1
}
